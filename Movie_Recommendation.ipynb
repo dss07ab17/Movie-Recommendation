{
 "cells": [
  {
   "cell_type": "markdown",
   "metadata": {
    "id": "mUOMpwa0j5z4"
   },
   "source": [
    "# **Movie Recomendation system**"
   ]
  },
  {
   "cell_type": "markdown",
   "metadata": {},
   "source": [
    "This project is a movie recommendation system that uses machine learning techniques to suggest movies to users based on their input. \n",
    "\n",
    "The user is prompted to input a movie name. The system uses difflib (a library for comparing sequences) to find the closest matching movie title from the dataset.\n",
    "\n",
    "Once a matching movie is found, the system retrieves its details and calculates its similarity with other movies in the dataset.\n",
    "    \n",
    "The system then ranks the movies based on their similarity scores across different features (genres, cast, release date, and other factors) and recommends the top 10 movies that are most similar to the input movie."
   ]
  },
  {
   "cell_type": "markdown",
   "metadata": {
    "id": "HljQC2ZRkWca"
   },
   "source": [
    "## Importing the packages"
   ]
  },
  {
   "cell_type": "code",
   "execution_count": 1,
   "metadata": {
    "id": "f-cObsgbiqd8"
   },
   "outputs": [],
   "source": [
    "import pandas as pd\n",
    "import matplotlib.pyplot as plt\n",
    "import math\n",
    "import numpy as np\n",
    "import difflib\n",
    "from sklearn.metrics.pairwise import cosine_similarity\n",
    "from sklearn.feature_extraction.text import TfidfVectorizer"
   ]
  },
  {
   "cell_type": "markdown",
   "metadata": {
    "id": "0RCz8PjOkjFO"
   },
   "source": [
    "## Data Preparation"
   ]
  },
  {
   "cell_type": "code",
   "execution_count": 2,
   "metadata": {
    "id": "GEG6dsi9kGwR"
   },
   "outputs": [],
   "source": [
    "data=pd.read_csv(\"Movies_data.csv\")"
   ]
  },
  {
   "cell_type": "markdown",
   "metadata": {
    "id": "0dQmUa_pkoSI"
   },
   "source": [
    "### Details of File"
   ]
  },
  {
   "cell_type": "code",
   "execution_count": 3,
   "metadata": {
    "colab": {
     "base_uri": "https://localhost:8080/"
    },
    "id": "FLt7qYNpkvZA",
    "outputId": "27604768-f5e4-4b09-97c7-2c75f09f400a"
   },
   "outputs": [
    {
     "name": "stdout",
     "output_type": "stream",
     "text": [
      "<class 'pandas.core.frame.DataFrame'>\n",
      "RangeIndex: 4809 entries, 0 to 4808\n",
      "Data columns (total 24 columns):\n",
      " #   Column                Non-Null Count  Dtype \n",
      "---  ------                --------------  ----- \n",
      " 0   index                 4809 non-null   object\n",
      " 1   budget                4809 non-null   object\n",
      " 2   genres                4781 non-null   object\n",
      " 3   homepage              1718 non-null   object\n",
      " 4   id                    4809 non-null   object\n",
      " 5   keywords              4397 non-null   object\n",
      " 6   original_language     4809 non-null   object\n",
      " 7   original_title        4809 non-null   object\n",
      " 8   overview              4806 non-null   object\n",
      " 9   popularity            4809 non-null   object\n",
      " 10  production_companies  4809 non-null   object\n",
      " 11  production_countries  4809 non-null   object\n",
      " 12  release_date          4808 non-null   object\n",
      " 13  revenue               4809 non-null   object\n",
      " 14  runtime               4807 non-null   object\n",
      " 15  spoken_languages      4809 non-null   object\n",
      " 16  status                4809 non-null   object\n",
      " 17  tagline               3964 non-null   object\n",
      " 18  title                 4808 non-null   object\n",
      " 19  vote_average          4808 non-null   object\n",
      " 20  vote_count            4808 non-null   object\n",
      " 21  cast                  4765 non-null   object\n",
      " 22  crew                  4808 non-null   object\n",
      " 23  director              4772 non-null   object\n",
      "dtypes: object(24)\n",
      "memory usage: 901.8+ KB\n"
     ]
    }
   ],
   "source": [
    "data.info()"
   ]
  },
  {
   "cell_type": "code",
   "execution_count": 4,
   "metadata": {},
   "outputs": [
    {
     "data": {
      "text/plain": [
       "(4809, 24)"
      ]
     },
     "execution_count": 4,
     "metadata": {},
     "output_type": "execute_result"
    }
   ],
   "source": [
    "data.shape"
   ]
  },
  {
   "cell_type": "markdown",
   "metadata": {
    "id": "eFGpKI1Zkv6M"
   },
   "source": [
    "### Getting the req_data from data set"
   ]
  },
  {
   "cell_type": "code",
   "execution_count": 5,
   "metadata": {
    "id": "oeNr1yG-3CX5"
   },
   "outputs": [],
   "source": [
    "req_data=data.iloc[:,[2,5,8,9,12,14,15,19,21,23]]"
   ]
  },
  {
   "cell_type": "markdown",
   "metadata": {
    "id": "TOGei6Vsk99p"
   },
   "source": [
    "### Converting all data to string format and filling the null values"
   ]
  },
  {
   "cell_type": "code",
   "execution_count": 17,
   "metadata": {
    "colab": {
     "base_uri": "https://localhost:8080/"
    },
    "id": "V9OVuoPUk2pY",
    "outputId": "d598782b-cbfa-4da3-9337-c2662a798d1e"
   },
   "outputs": [],
   "source": [
    "for i in req_data.keys():\n",
    "    req_data.loc[:, i] = req_data[i].astype(\"string\")\n",
    "    req_data.loc[:, i] = req_data[i].fillna(\"\")"
   ]
  },
  {
   "cell_type": "code",
   "execution_count": 18,
   "metadata": {
    "colab": {
     "base_uri": "https://localhost:8080/"
    },
    "id": "VG1KNIRT5Pxh",
    "outputId": "95a084eb-d7a5-4cb4-bd07-84e0d5e78daa"
   },
   "outputs": [
    {
     "name": "stdout",
     "output_type": "stream",
     "text": [
      "<class 'pandas.core.frame.DataFrame'>\n",
      "RangeIndex: 4809 entries, 0 to 4808\n",
      "Data columns (total 10 columns):\n",
      " #   Column            Non-Null Count  Dtype \n",
      "---  ------            --------------  ----- \n",
      " 0   genres            4809 non-null   string\n",
      " 1   keywords          4809 non-null   string\n",
      " 2   overview          4809 non-null   string\n",
      " 3   popularity        4809 non-null   string\n",
      " 4   release_date      4809 non-null   string\n",
      " 5   runtime           4809 non-null   string\n",
      " 6   spoken_languages  4809 non-null   string\n",
      " 7   vote_average      4809 non-null   string\n",
      " 8   cast              4809 non-null   string\n",
      " 9   director          4809 non-null   string\n",
      "dtypes: string(10)\n",
      "memory usage: 375.8 KB\n"
     ]
    }
   ],
   "source": [
    "req_data.info()"
   ]
  },
  {
   "cell_type": "markdown",
   "metadata": {
    "id": "7KoO45JtlTfF"
   },
   "source": [
    "### Feature Extraction"
   ]
  },
  {
   "cell_type": "code",
   "execution_count": 19,
   "metadata": {
    "id": "W5pWud863b8o"
   },
   "outputs": [],
   "source": [
    "#movie recomdations based on genres,release_date,cast,director,and remain\n",
    "string=req_data['keywords']+\" \"+req_data['director']+\" \"+req_data['overview']+\" \"+req_data['popularity']+\" \"+req_data['runtime']+\" \"+req_data['spoken_languages']+\" \"+req_data['vote_average']"
   ]
  },
  {
   "cell_type": "markdown",
   "metadata": {
    "id": "yG469I80ljos"
   },
   "source": [
    "\n",
    "\n",
    "*   Creation of individual normalised vector for primary factors\n",
    "*   similarly common normalised vector for secondary factors\n",
    "\n"
   ]
  },
  {
   "cell_type": "code",
   "execution_count": 20,
   "metadata": {
    "id": "IO4zHSuqml0H"
   },
   "outputs": [],
   "source": [
    "vector1=TfidfVectorizer().fit_transform(req_data[\"genres\"])\n",
    "vector2=TfidfVectorizer().fit_transform(req_data[\"release_date\"]+\" \"+req_data[\"popularity\"])\n",
    "vector3=TfidfVectorizer().fit_transform(req_data[\"cast\"])\n",
    "vector4=TfidfVectorizer().fit_transform(string)"
   ]
  },
  {
   "cell_type": "markdown",
   "metadata": {
    "id": "2vZNw_F-mKwE"
   },
   "source": [
    "## Similarity Calculations"
   ]
  },
  {
   "cell_type": "code",
   "execution_count": 21,
   "metadata": {
    "id": "pWXD7oqPoi1I"
   },
   "outputs": [],
   "source": [
    "similar_genres=cosine_similarity(vector1)\n",
    "similar_release_date=cosine_similarity(vector2)\n",
    "similar_cast=cosine_similarity(vector3)\n",
    "similar_other_factors=cosine_similarity(vector4)"
   ]
  },
  {
   "cell_type": "markdown",
   "metadata": {
    "id": "rYDf6gqMmS6H"
   },
   "source": [
    "## User Input"
   ]
  },
  {
   "cell_type": "code",
   "execution_count": 22,
   "metadata": {
    "colab": {
     "base_uri": "https://localhost:8080/"
    },
    "id": "Xwcb9ixorpNk",
    "outputId": "a2636b6a-223d-4b1d-8270-aa9fe1347344"
   },
   "outputs": [
    {
     "name": "stdin",
     "output_type": "stream",
     "text": [
      "Enter Movie Name: blue book\n"
     ]
    },
    {
     "name": "stdout",
     "output_type": "stream",
     "text": [
      "No recomendations found\n",
      "Try with other name\n"
     ]
    },
    {
     "name": "stdin",
     "output_type": "stream",
     "text": [
      "Enter Movie Name: avatar\n"
     ]
    },
    {
     "name": "stdout",
     "output_type": "stream",
     "text": [
      "Movie Name: Avatar\n",
      "genres: Action Adventure Fantasy Science Fiction\n",
      "cast: Sam Worthington Zoe Saldana Sigourney Weaver Stephen Lang Michelle Rodriguez\n",
      "release date: 10-12-2009\n"
     ]
    }
   ],
   "source": [
    "while (True):\n",
    "  movie=input(\"Enter Movie Name:\")\n",
    "  movie_name=difflib.get_close_matches(movie,data[\"original_title\"])\n",
    "  if(len(movie_name)==0):\n",
    "    print(\"No recomendations found\")\n",
    "    print(\"Try with other name\")\n",
    "  else:\n",
    "    break\n",
    "val=data[data.title==movie_name[0]][\"index\"].values[0]\n",
    "movie=data.loc[[int(val)],[\"title\"]].values[0][0]\n",
    "genres=data.loc[[int(val)],[\"genres\"]].values[0][0]\n",
    "cast=data.loc[[int(val)],[\"cast\"]].values[0][0]\n",
    "release_date=data.loc[[int(val)],[\"release_date\"]].values[0][0]\n",
    "print(\"Movie Name:\",movie)\n",
    "print(\"genres:\",genres)\n",
    "print(\"cast:\",cast)\n",
    "print(\"release date:\",release_date)"
   ]
  },
  {
   "cell_type": "markdown",
   "metadata": {
    "id": "mu_CsZ4Smgjy"
   },
   "source": [
    "## Recomended Movies"
   ]
  },
  {
   "cell_type": "code",
   "execution_count": 23,
   "metadata": {
    "id": "s1wqzCoUs_6p"
   },
   "outputs": [],
   "source": [
    "genres_score=list(enumerate(similar_genres[int(val)]))\n",
    "cast_score=list(enumerate(similar_cast[int(val)]))\n",
    "release_score=list(enumerate(similar_release_date[int(val)]))\n",
    "others_score=list(enumerate(similar_other_factors[int(val)]))"
   ]
  },
  {
   "cell_type": "markdown",
   "metadata": {
    "id": "jw4xd5X4m72k"
   },
   "source": [
    "### Genres"
   ]
  },
  {
   "cell_type": "code",
   "execution_count": 24,
   "metadata": {
    "colab": {
     "base_uri": "https://localhost:8080/"
    },
    "id": "kXtEnqRbvpq6",
    "outputId": "1b5f1296-4279-4060-81dd-8fa018c2c15c"
   },
   "outputs": [
    {
     "name": "stdout",
     "output_type": "stream",
     "text": [
      "Avatar http://www.avatarmovie.com/\n",
      "Superman Returns http://www.superman.com\n",
      "Man of Steel http://www.manofsteel.com/\n",
      "X-Men: Days of Future Past http://www.x-menmovies.com/\n",
      "Jupiter Ascending http://www.jupiterascending.com\n",
      "The Wolverine http://www.thewolverinemovie.com\n",
      "Superman\n",
      "Superman II\n",
      "Beastmaster 2: Through the Portal of Time\n",
      "Teenage Mutant Ninja Turtles http://www.teenagemutantninjaturtlesmovie.com\n",
      "Mystery Men\n"
     ]
    }
   ],
   "source": [
    "count=0\n",
    "recomanded_movies=[]\n",
    "sorted_recomandations=sorted(genres_score,key=lambda x:x[1],reverse=True)\n",
    "for i in sorted_recomandations:\n",
    "  index=i[0]\n",
    "  recomanded_movies.append(data[data.index==index]['title'].values[0])\n",
    "  count+=1\n",
    "  if(count>(10)):\n",
    "    break\n",
    "for i in recomanded_movies:\n",
    "  va=data[data.title==i][\"homepage\"].values[0]\n",
    "  if pd.isnull(va):\n",
    "    print(i)\n",
    "  else:\n",
    "    print(i,va)"
   ]
  },
  {
   "cell_type": "markdown",
   "metadata": {
    "id": "38RNTgqanWUO"
   },
   "source": [
    "### Release Date and Popularity"
   ]
  },
  {
   "cell_type": "code",
   "execution_count": 25,
   "metadata": {
    "colab": {
     "base_uri": "https://localhost:8080/"
    },
    "id": "JE8LJvZUET_9",
    "outputId": "4bb45041-911d-49e7-f649-8cef1ed404ea"
   },
   "outputs": [
    {
     "name": "stdout",
     "output_type": "stream",
     "text": [
      "Avatar http://www.avatarmovie.com/\n",
      "Gettysburg\n",
      "Out of the Furnace\n",
      "Galaxy Quest\n",
      "Imaginary Heroes http://www.sonypictures.com/classics/imaginary/site.html\n",
      "Snow White: A Tale of Terror\n",
      "The Words http://www.thewordsmovie.com/\n",
      "Everest http://www.everestmovie.com/\n",
      "Drumline\n",
      "Get Over It\n",
      "Vantage Point http://www.vantagepoint-movie.com/index.php\n"
     ]
    }
   ],
   "source": [
    "count=0\n",
    "recomanded_movies=[]\n",
    "sorted_recomandations=sorted(cast_score,key=lambda x:x[1],reverse=True)\n",
    "for i in sorted_recomandations:\n",
    "  index=i[0]\n",
    "  recomanded_movies.append(data[data.index==index]['title'].values[0])\n",
    "  count+=1\n",
    "  if(count>(10)):\n",
    "    break\n",
    "for i in recomanded_movies:\n",
    "  va=data[data.title==i][\"homepage\"].values[0]\n",
    "  if pd.isnull(va):\n",
    "    print(i)\n",
    "  else:\n",
    "    print(i,va)"
   ]
  },
  {
   "cell_type": "markdown",
   "metadata": {
    "id": "ad5jfjaMnoo6"
   },
   "source": [
    "### Cast "
   ]
  },
  {
   "cell_type": "code",
   "execution_count": 26,
   "metadata": {
    "colab": {
     "base_uri": "https://localhost:8080/"
    },
    "id": "PmsD7bWcEvXm",
    "outputId": "bed0e718-4b0b-4e8f-a674-8b3bb98b3ed1"
   },
   "outputs": [
    {
     "name": "stdout",
     "output_type": "stream",
     "text": [
      "Avatar http://www.avatarmovie.com/\n",
      "A Shine of Rainbows\n",
      "Life During Wartime http://www.ifcfilms.com/films/life-during-wartime-2\n",
      "Chicago Overcoat\n",
      "Invictus http://invictusmovie.warnerbros.com\n",
      "Observe and Report\n",
      "Oceans http://oceans-lefilm.com/\n",
      "2012 http://www.sonypictures.com/movies/2012\n",
      "Defendor\n",
      "A Woman, a Gun and a Noodle Shop\n",
      "Rocket Singh: Salesman of the Year http://www.yashrajfilms.com/microsites/rocketsingh/rswebsite.html\n"
     ]
    }
   ],
   "source": [
    "count=0\n",
    "recomanded_movies=[]\n",
    "sorted_recomandations=sorted(release_score,key=lambda x:x[1],reverse=True)\n",
    "for i in sorted_recomandations:\n",
    "  index=i[0]\n",
    "  recomanded_movies.append(data[data.index==index]['title'].values[0])\n",
    "  count+=1\n",
    "  if(count>(10)):\n",
    "    break\n",
    "for i in recomanded_movies:\n",
    "  va=data[data.title==i][\"homepage\"].values[0]\n",
    "  if pd.isnull(va):\n",
    "    print(i)\n",
    "  else:\n",
    "    print(i,va)"
   ]
  },
  {
   "cell_type": "markdown",
   "metadata": {
    "id": "gGNpw3hSn0sg"
   },
   "source": [
    "### Adds on Interest "
   ]
  },
  {
   "cell_type": "code",
   "execution_count": 27,
   "metadata": {
    "colab": {
     "base_uri": "https://localhost:8080/"
    },
    "id": "Z7amTsa6GIgC",
    "outputId": "8d5f52c7-d6dd-4920-ad58-a6eba8a2fa4f"
   },
   "outputs": [
    {
     "name": "stdout",
     "output_type": "stream",
     "text": [
      "Avatar http://www.avatarmovie.com/\n",
      "Lifeforce\n",
      "Moonraker http://www.mgm.com/view/movie/1292/Moonraker/\n",
      "Gattaca\n",
      "Gravity http://gravitymovie.warnerbros.com/\n",
      "Cargo http://www.cargoderfilm.ch http://cargothemovie.com\n",
      "Space Chimps http://www.spacechimpspower.com/\n",
      "Apollo 18 http://apollo18movie.net/\n",
      "Starship Troopers\n",
      "Deep Impact\n",
      "Alien https://www.facebook.com/alienanthology/\n"
     ]
    }
   ],
   "source": [
    "count=0\n",
    "recomanded_movies=[]\n",
    "sorted_recomandations=sorted(others_score,key=lambda x:x[1],reverse=True)\n",
    "for i in sorted_recomandations:\n",
    "  index=i[0]\n",
    "  recomanded_movies.append(data[data.index==index]['title'].values[0])\n",
    "  count+=1\n",
    "  if(count>10):\n",
    "    break\n",
    "for i in recomanded_movies:\n",
    "  va=data[data.title==i][\"homepage\"].values[0]\n",
    "  if pd.isnull(va):\n",
    "    print(i)\n",
    "  else:\n",
    "    print(i,va)"
   ]
  }
 ],
 "metadata": {
  "colab": {
   "provenance": []
  },
  "kernelspec": {
   "display_name": "Python 3 (ipykernel)",
   "language": "python",
   "name": "python3"
  },
  "language_info": {
   "codemirror_mode": {
    "name": "ipython",
    "version": 3
   },
   "file_extension": ".py",
   "mimetype": "text/x-python",
   "name": "python",
   "nbconvert_exporter": "python",
   "pygments_lexer": "ipython3",
   "version": "3.12.3"
  }
 },
 "nbformat": 4,
 "nbformat_minor": 4
}
